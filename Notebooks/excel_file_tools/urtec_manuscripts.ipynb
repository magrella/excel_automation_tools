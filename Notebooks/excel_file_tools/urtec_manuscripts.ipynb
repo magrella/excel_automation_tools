{
 "cells": [
  {
   "cell_type": "code",
   "execution_count": 2,
   "metadata": {},
   "outputs": [],
   "source": [
    "# import packages\n",
    "import re\n",
    "import os\n",
    "import json"
   ]
  },
  {
   "attachments": {},
   "cell_type": "markdown",
   "metadata": {},
   "source": [
    "### SKIP THIS: Do not run the following cells, unless file \\manuscripts.txt has been created"
   ]
  },
  {
   "cell_type": "code",
   "execution_count": null,
   "metadata": {},
   "outputs": [],
   "source": [
    "import re\n",
    "\n",
    "# Specify the path to the text file\n",
    "file_path = r'\\\\dom1.local\\clrfiles\\Department Data\\Resource Development\\Technical Papers\\URTec_2023_with_names\\manuscripts.txt'\n",
    "\n",
    "# Read the contents of the text file\n",
    "with open(file_path, 'r') as file:\n",
    "    text = file.read()\n",
    "\n",
    "# Find the lines containing the keys and values\n",
    "key_value_pairs = re.findall(r'doi: https://doi.org/10.15530/urtec-2023-(\\d+)\\nAbstract\\nView Articletitled, (.*?)\\nPDF', text, re.DOTALL)\n",
    "\n",
    "# Create the dictionary\n",
    "manuscript_dict = {}\n",
    "for key, value in key_value_pairs:\n",
    "    key = int(key)\n",
    "    manuscript_dict[key] = value.strip()\n",
    "\n",
    "print(manuscript_dict)\n"
   ]
  },
  {
   "cell_type": "code",
   "execution_count": 44,
   "metadata": {},
   "outputs": [],
   "source": [
    "# transform the dictionary keys into strings\n",
    "manuscript_dict = {str(key): value for key, value in manuscript_dict.items()}"
   ]
  },
  {
   "cell_type": "code",
   "execution_count": 58,
   "metadata": {},
   "outputs": [
    {
     "data": {
      "text/plain": [
       "'Time-Lapse Produced Water Source Allocation: Characterizing Impact of Fracture-Driven Interaction, Insights on Life-of-Well Water Production Profile and Asset Development Optimization in the Permian Midland Basin'"
      ]
     },
     "execution_count": 58,
     "metadata": {},
     "output_type": "execute_result"
    }
   ],
   "source": [
    "manuscript_dict['3858760']"
   ]
  },
  {
   "cell_type": "code",
   "execution_count": 63,
   "metadata": {},
   "outputs": [],
   "source": [
    "# save the dictionary as a json file\n",
    "import json\n",
    "with open('manuscripts_dict.json', 'w') as fp:\n",
    "    json.dump(manuscript_dict, fp)"
   ]
  },
  {
   "attachments": {},
   "cell_type": "markdown",
   "metadata": {},
   "source": [
    "### START HERE: Load the dictionary of manuscripts"
   ]
  },
  {
   "cell_type": "code",
   "execution_count": 3,
   "metadata": {},
   "outputs": [],
   "source": []
  },
  {
   "cell_type": "code",
   "execution_count": 4,
   "metadata": {},
   "outputs": [
    {
     "data": {
      "text/plain": [
       "'Time-Lapse Produced Water Source Allocation: Characterizing Impact of Fracture-Driven Interaction, Insights on Life-of-Well Water Production Profile and Asset Development Optimization in the Permian Midland Basin'"
      ]
     },
     "execution_count": 4,
     "metadata": {},
     "output_type": "execute_result"
    }
   ],
   "source": [
    "manuscript_dict['3858760']"
   ]
  },
  {
   "attachments": {},
   "cell_type": "markdown",
   "metadata": {},
   "source": [
    "### Rename files according to the dictionary"
   ]
  },
  {
   "cell_type": "code",
   "execution_count": 7,
   "metadata": {},
   "outputs": [
    {
     "name": "stdout",
     "output_type": "stream",
     "text": [
      "Moving file '3862407.pdf' to 'Key_Drivers_for_Complexity_of_Hydraulic_Fracture_Stimulation_-_Cemented_and_Bitumen-Filled_Fractures_Formed_During_Hydrocarbon_Maturation_of_the_Marcellus_Shale_-_Key_Drivers_to_Complexity_of_Hydraulic_Fracture_Stimulation.pdf'.\n",
      "Error occurred while moving file '3862407.pdf': [Errno 2] No such file or directory: 'C:\\\\Users\\\\grellama\\\\URTec_2023_with_names\\\\Key_Drivers_for_Complexity_of_Hydraulic_Fracture_Stimulation_-_Cemented_and_Bitumen-Filled_Fractures_Formed_During_Hydrocarbon_Maturation_of_the_Marcellus_Shale_-_Key_Drivers_to_Complexity_of_Hydraulic_Fracture_Stimulation.pdf'\n",
      "Moving file '3862544.pdf' to 'Reexamining_In-Situ_Stress_Interpretation_Using_Laboratory_Hydraulic_Fracturing_Experiments.pdf'.\n",
      "Moving file '3862546.pdf' to 'Chemical_in_Gas_Dispersions_The_Evolution_of_a_Novel_Concept_for_IOREOR_in_Tight_Formations.pdf'.\n",
      "Moving file '3862589.pdf' to 'Data-Driven_Analysis_for_Causality_of_Parent–Child_Interactions_in_the_Bakken.pdf'.\n",
      "Moving file '3862595.pdf' to 'Bilinear_Flow_Analysis_of_Shale_Gas_Wells_with_Dynamic_Hydraulic_Fracture_Conductivity.pdf'.\n",
      "Moving file '3862690.pdf' to 'Using_a_Drill_Cuttings-Based_Approach_to_Predict_Reservoir_Performance_for_Improved_Well_Optimization_A_Case_Study_from_the_Harkey_Mills_Sand_and_2supndsup_Bone_Springs_Sand,_Bone_Spring_Formation,_Lea_County,_New_Mexico,_USA.pdf'.\n",
      "Error occurred while moving file '3862690.pdf': [Errno 2] No such file or directory: 'C:\\\\Users\\\\grellama\\\\URTec_2023_with_names\\\\Using_a_Drill_Cuttings-Based_Approach_to_Predict_Reservoir_Performance_for_Improved_Well_Optimization_A_Case_Study_from_the_Harkey_Mills_Sand_and_2supndsup_Bone_Springs_Sand,_Bone_Spring_Formation,_Lea_County,_New_Mexico,_USA.pdf'\n",
      "Moving file '3862919.pdf' to 'Predicting_Facies_Controls_on_Well_Performance,_Lea_County_NM.pdf'.\n",
      "Moving file '3862949.pdf' to 'A_Robust_Workflow_to_Characterize_Uncertainties_of_a_Horizontal_Well_Pad_Multi-Well_History_Matching_for_Unconventional_Reservoirs.pdf'.\n",
      "Moving file '3862974.pdf' to 'Leveraging_Reservoir_and_Fracture_Modeling_to_Optimize_Well_Landing,_Spacing,_and_Completion_Size_in_the_DJ_Basin.pdf'.\n",
      "Moving file '3863029.pdf' to 'Single-Use_Fiber_Analysis_on_Fault-Driven_Frac_Propagation_Anomalies_in_the_Midland_Basin.pdf'.\n",
      "Skipping file '3863114.pdf' as it is not included in manuscript_dict.\n",
      "Moving file '3863134.pdf' to 'A_Study_on_Well_Placement_and_Performance_Forecasting_in_Uinta_Basin_Considering_Geological_Uncertainty.pdf'.\n",
      "Moving file '3863143.pdf' to 'Understanding_Unconventional_Reservoirs_with_an_Integrated_Physics_and_Machine_Learning_Based_Methods_–_Case_Studies_and_Novel_Approaches_from_Tight_Gas_and_Tight_Oil_Reservoir.pdf'.\n",
      "Moving file '3863213.pdf' to 'Evaluating_COsub2sub_Storage_Potential_in_Louisiana_–_An_Analysis_of_the_Entire_Value_Chain.pdf'.\n",
      "Moving file '3863309.pdf' to 'Multi-Modal_Data-Assisted_Prediction_and_Analysis_of_Shale_Gas_Production_Performance_at_Early_Production_Stage_in_Weirong_Shale_Gas_Field,_Sichuan_Basin,_China.pdf'.\n",
      "Moving file '3863378.pdf' to 'Auto-Identification_and_Real-Time_Warning_Method_of_Multiple_Type_Events_During_Multistage_Horizontal_Well_Fracturing.pdf'.\n",
      "Moving file '3863429.pdf' to 'Simulation_of_Thermal_Maturity_in_Kerogen_Type_II_from_the_Bakken_Shale_via_Anhydrous_and_Hydrous_Pyrolysis.pdf'.\n",
      "Moving file '3863461.pdf' to 'Improving_Recovery_Potential_Through_Understanding_Parent-Child_Well_Interactions_in_a_Heterogeneous_Shale_Play.pdf'.\n",
      "Moving file '3863533.pdf' to 'Understanding_NMR_Responses_of_Different_Rock-Fluid_Components_Within_Organic-Rich_Argillaceous_Rocks_Comparison_Study_Across_2,_12,_and_23_MHz_Spectroscopy.pdf'.\n",
      "Moving file '3863542.pdf' to 'Oil_Recovery_Performance_and_Asphaltene_Deposition_Evaluation_of_Miscible_and_Immiscible_Carbon_Dioxide_or_Nitrogen_Huff-N-Puff_Processes_in_Shale_Reservoirs.pdf'.\n",
      "Moving file '3863764.pdf' to 'A_Novel_Production_Profiling_Workflow_Using_Microseismic_Data_and_Distributed_Temperature_Sensing_Data_for_Unconventional_Reservoirs.pdf'.\n",
      "Moving file '3863806.pdf' to 'Fluid_Definitions_and_Pore_Space_Partitioning_Integrating_NMR_and_Closed_Retort_Data.pdf'.\n",
      "Moving file '3863926.pdf' to 'Predicting_Hydrocarbon_Production_Behavior_in_Heterogeneous_Reservoir_Utilizing_Deep_Learning_Models.pdf'.\n",
      "Moving file '3863943.pdf' to 'Improving_Well_Productivity_Using_Water-Less_Frac_Fluids_in_Eagle_Ford_Shale_Formation.pdf'.\n",
      "Moving file '3863971.pdf' to 'Estimating_Fracture_Length_and_Density_Using_Depletion_Mapping_from_the_Drilling_Data_of_Infill_Well_Pads.pdf'.\n",
      "Moving file '3864002.pdf' to 'Improving_Artificial_Lift_Timing,_Selection,_and_Operations_Strategy_Using_a_Physics_Informed_Data-Driven_Method.pdf'.\n",
      "Moving file '3864145.pdf' to 'Evaluating_the_Hydraulic_Fracture_Through_Acoustic_Reflection_Imaging_and_Production_Logging_for_Water_Diagnostic_Beyond_Wellbore_A_Case_Study_from_Chang_8_Tight_Sand_in_the_Ordos_Basin,_China.pdf'.\n",
      "Moving file '3864179.pdf' to 'Experimental_and_Numerical_Simulation_Using_X-Ray_Photoelectron_Spectroscopy_(XPS)_and_PHREEQC_for_Geochemical_Interaction_Effect_on_ScCOsub2sub-EOR_and_Storage_in_Unconventional_Reservoirs.pdf'.\n",
      "Moving file '3864410.pdf' to 'How_Much_Do_Natural_Fractures_Matter_in_the_Permian_Basin_Systematic_Study_Using_Cores,_Image_Logs,_Physics_Based_Models,_RTA,_and_Fiber_Data.pdf'.\n",
      "Moving file '3864421.pdf' to 'Machine_Learning_Based_Stereoscopic_Triple_Sweet_Spot_Evaluation_Method_for_Shale_Reservoirs.pdf'.\n",
      "Moving file '3864551.pdf' to 'Integrated_Workflows_for_Drilling_Optimization_and_Enhanced_Production.pdf'.\n",
      "Moving file '3864658.pdf' to 'Contrasting_Fluid_Migration_Patterns_in_an_Unconventional_Hybrid_Play_-_Geological_Controls_and_Development_Implications_(Montney_Play,_Western_Canada).pdf'.\n",
      "Moving file '3864710.pdf' to 'A_Comprehensive_Simulation_Study_of_Hydraulic_Fracturing_Test_Site_2_(HFTS-2)_Part_I_–_Modeling_Pressure-Dependent_and_Time-Dependent_Fracture_Conductivity_in_Fully_Calibrated_Fracture_and_Reservoir_Models.pdf'.\n",
      "Moving file '3864731.pdf' to 'Geomechanical_Modeling_of_Fracture_Growth_in_Naturally_Fractured_Rocks_A_Case_Study_of_the_Utah_FORGE_Geothermal_Site.pdf'.\n",
      "Moving file '3864742.pdf' to 'Hydrocarbon_Phase_Behavior_Under_Nanoconfinement_and_Shale-PVT_Model_Development.pdf'.\n",
      "Moving file '3864794.pdf' to 'A_Shapley_Approach_to_Permian_Rock_Quality.pdf'.\n",
      "Moving file '3864802.pdf' to 'The_Effect_of_Variations_of_Fluid_Pressure_in_Natural_Fractures_on_the_Geometry_of_Fracture_Networks_and_Well_Productivity.pdf'.\n",
      "Moving file '3864823.pdf' to 'Experimental_Evaluation_of_Cement_Integrity_on_Exposure_to_COsub2sub_Application_to_Geostorage.pdf'.\n",
      "Moving file '3864846.pdf' to 'An_Efficient_Eulerian-Lagrangian_Proppant_Transport_Model_Coupled_with_Three-Dimensional_Hydraulic_Fracture_Propagation.pdf'.\n",
      "Moving file '3864848.pdf' to 'Experimental_Observation_of_Diffusion_as_the_Main_Drive_Mechanism_in_Unconventional_Shales.pdf'.\n",
      "Moving file '3864852.pdf' to 'Effects_of_COsub2sub_Exposure_on_Unconventional_Reservoir_Rock_Microstructure.pdf'.\n",
      "Moving file '3864871.pdf' to 'Rock_and_Fluid-Based_Correlation_to_Describe_Surfactant_Molecular_Structure's_Impact_on_Spontaneous_Imbibition_Experiments’_Performance.pdf'.\n",
      "Moving file '3864891.pdf' to 'Inverse_Approach_to_Development_Optimizations_to_Calibrate_Assumptions_About_Trade-Off's_Between_Well_Spacing_and_Frac’_Intensity.pdf'.\n",
      "Moving file '3864914.pdf' to 'Compaction_in_Unconventional_Carbonate_Reservoir_Rocks_and_Its_Effect_on_Well_Completions_and_Hydraulic_Fracturing.pdf'.\n",
      "Moving file '3864951.pdf' to 'Revealing_the_Production_Drivers_for_Refracs_in_the_Williston_Basin.pdf'.\n",
      "Moving file '3865091.pdf' to 'Estimating_Real-Time_Pore_Pressure_at_the_Bit_via_Machine_Learning.pdf'.\n",
      "Moving file '3865157.pdf' to 'Use_of_Multiphase_Flowing_Material_Balance_(FMB)_to_Evaluate_Refracs_in_the_Eagle_Ford.pdf'.\n",
      "Moving file '3865252.pdf' to 'A_Workflow_to_Map_Maturity_and_Fluid_Properties_from_Public_Production_Reporting.pdf'.\n",
      "Moving file '3865660.pdf' to 'Rock_Thin-Section_Analysis_and_Mineral_Detection_Utilizing_Deep_Learning_Approach.pdf'.\n",
      "Moving file '3865670.pdf' to 'Data_Driven_Oil_Production_Prediction_and_Uncertainty_Quantification_for_Unconventional_Asset_Development_Planning_Through_Machine_Learning.pdf'.\n",
      "Moving file '3865769.pdf' to 'Optimizing_Development_of_Stacked_Reservoirs_and_Identifying_Depleted_Reservoir_Intervals_Using_Geochemical_Data.pdf'.\n",
      "Moving file '3865879.pdf' to 'Maximizing_Efficiency_of_Deep-Reinforcement_Learning_Agents_in_Autonomous_Directional_Drilling_with_Hyperparameter_Optimization.pdf'.\n",
      "Moving file '3866019.pdf' to 'Production_Sweet_Spots_of_Eight_US_Shale_Plays_Constrained_by_Data_Analytics_of_Normalized_Production_Index,_Payzone_Depth,_and_Initial_GOR.pdf'.\n",
      "Moving file '3866049.pdf' to 'Deep_Learning_Models_for_Methane_Emissions_Identification_and_Quantification.pdf'.\n",
      "Moving file '3866061.pdf' to 'Reducing_Methane_Emissions_Implementing_Data_Science_Informed_Operation_and_Maintenance_Work_Practices_Using_Continuous_Monitoring_Technology.pdf'.\n",
      "Moving file '3866067.pdf' to 'Feasibility_of_COsub2sub_Storage_in_Depleted_Unconventional_Oil_and_Gas_Reservoirs_Capacity,_Microscale_Mechanism,_Injectivity,_Fault_Stability,_and_Monitoring.pdf'.\n",
      "Moving file '3866084.pdf' to 'Machine_Learning_Facilitates_Prediction_of_Geomechanical_Properties_Directly_from_SEM_Images_in_Unconventional_Plays.pdf'.\n",
      "Moving file '3866134.pdf' to 'A_Comprehensive_Review_of_Fracture-Driven_Interaction_in_Unconventional_Oil_and_Gas_Plays_Characterization,_Real-Time_Diagnosis,_and_Impact_on_Production.pdf'.\n",
      "Moving file '3866156.pdf' to '3D_Modeling_and_Analysis_of_Utah_FORGE_Reservoir_Stimulation.pdf'.\n",
      "Moving file '3866237.pdf' to 'Understanding_the_Advantages_and_Disadvantages_of_Unconventional_Well_Stacking_and_Interference.pdf'.\n",
      "Moving file '3866246.pdf' to 'A_Systematic_Laboratory_and_Model-Based_Surfactant_Screening_Workflow_for_Enhanced_Recovery_via_Wettability_Alteration_in_the_Eagle_Ford.pdf'.\n",
      "Moving file '3866325.pdf' to 'Optimizing_Production_Potential_of_Unconventional_Oil_and_Gas_Wells_Insights_from_Statistical_and_Machine_Learning_Analysis_of_Well_Spacing,_Sequencing,_and_Landing_Zone_TVD_Across_Eleven_North_American_Plays.pdf'.\n",
      "Moving file '3866347.pdf' to 'Oil_and_Gas_Generation,_Migration,_Production_Prediction,_and_Reservoir_Characterization_of_Northern_Denver_Basin_Implication_from_the_Total_Petroleum_Systems.pdf'.\n",
      "Moving file '3866741.pdf' to 'Characterizing_Multiple_Formations_for_Gas_Production_and_CO2_Sequestration.pdf'.\n",
      "Moving file '3866768.pdf' to 'Assessing_the_Potential_of_Three_Assets_From_Exploration_to_Development,_a_Multidisciplinary_Integration_Case.pdf'.\n",
      "Moving file '3866789.pdf' to 'Effect_of_Hydrogen_Exposure_on_Shale_Reservoir_Properties_A_Thorough_Experimental_Study_Evaluating_Interaction_of_Hydrogen_with_Rock_and_Fluid_When_Exploring_Storage_Potential.pdf'.\n",
      "Moving file '3867104.pdf' to 'Biogeochemical_Reactions_in_a_Diffusion-Limited_Zone_Around_Wellbore_Cement_Relevant_to_Underground_Hydrogen_Storage.pdf'.\n",
      "Moving file '3867194.pdf' to 'Multi-Basin_Case_Study_Remediating_Damage_from_Fracture_Driven_Interactions_Utilizing_a_Rigless_Chemical_Process.pdf'.\n",
      "Moving file '3867221.pdf' to 'Optimal_Treatment_and_Reuse_of_Flowback_and_Produced_Water_Selective_Removal_of_Problematic_Cations_for_Stability_of_Friction_Reducers.pdf'.\n",
      "Moving file '3867323.pdf' to 'Optimizing_Completions_by_Enhancing_Near-Field_Connectivity_and_Mitigating_Stress_Shadowing_in_Real-Time_via_Acoustic_Based_Workflow.pdf'.\n",
      "Moving file '3867326.pdf' to 'Surface_Compression_and_PAGL_Increase_and_Extend_Production_for_Shale_Wells.pdf'.\n",
      "Moving file '3867529.pdf' to 'From_Laboratory_to_Field_Simulation_of_a_Surfactant_Huff-N-Puff_Pilot_in_the_Eagle_Ford.pdf'.\n",
      "Moving file '3867635.pdf' to 'Mechanical_Characterization,_Anisotropy,_and_Failure_Pattern_of_Unconventional_Reservoirs_for_Wellbore_Stability_and_Fracture_Enhancement.pdf'.\n",
      "Moving file '3867722.pdf' to 'In-Well_Stress_Shadow_and_Near-Wellbore_Fracture_Geometry_Diagnosis_Using_High-Resolution_Distributed_Strain_Sensing_via_Rayleigh_Frequency_Shift.pdf'.\n",
      "Moving file '3868098.pdf' to 'Using_NMR_to_Quantify_Mineralization-Induced_Porosity_Changes_in_Varied_Lithologies_IOR_and_Carbon_Storage_Applications.pdf'.\n",
      "Moving file '3868150.pdf' to 'Developing_a_High-Efficiency_Method_for_Field-Scale_Simulation_of_a_Tight_and_Naturally_Fractured_Reservoir_in_the_Williston_Basin.pdf'.\n",
      "Moving file '3868861.pdf' to 'Identification_and_Quantification_of_the_Effect_of_Fracture-Driven_Interactions_on_Production_from_Parent_and_Child_Wells_in_Williston_Basin.pdf'.\n",
      "Moving file '3869162.pdf' to 'A_Combined_Discontinuous_Galerkin_Cohesive_Zone_Model_Numerical_Simulator_for_Hydraulic_Fracturing_and_Application_to_Frac_Hits_Mitigation.pdf'.\n",
      "Moving file '3869179.pdf' to 'A_Geomechanics_and_Pore_Pressure_Informed_Stage_Level_Optimization_Case_Study_for_Unconventional,_Infill_Development_in_the_Powder_River_Basin.pdf'.\n",
      "Moving file '3869266.pdf' to 'Comparison_of_Numerical_LDAR_Assessment_Methods_in_Methane_Detection_Technologies.pdf'.\n",
      "Moving file '3869278.pdf' to 'Geomechanics_Complexity_Associated_with_Sub-Seismic_Fold_Structures_in_a_Horizontal_Well.pdf'.\n",
      "Moving file '3869530.pdf' to 'Experimental_and_Numerical_Analysis_of_Toe-up_Trajectory_Effect_on_Gas_Lifted_Unconventional_Wells_Performances.pdf'.\n",
      "Moving file '3869654.pdf' to 'Integrated_Well_Performance_Analysis_Methodology_to_Understand_Production_Performance_and_Identify_Refracturing_Candidates_in_Barnett_Shale.pdf'.\n",
      "Moving file '3869819.pdf' to 'Injectivity-Productivity_Changes_During_Cyclic_Well_Operations_for_Hsub2sub_Storage_in_Unconventional_Reservoirs.pdf'.\n",
      "Moving file '3869822.pdf' to 'Multidimensional,_Experimental_and_Modeling_Evaluation_of_Permeability_Evolution,_the_Caney_Shale_Field_Lab,_OK,_USA.pdf'.\n",
      "Moving file '3870013.pdf' to 'Hydrocarbon_Mobility_as_a_Proxy_for_Reservoir_Quality_and_Migration.pdf'.\n",
      "Moving file '3870070.pdf' to 'Machine_Learning_Based_Approach_to_Optimize_Huff-N-Puff_Gas_Injection_in_Naturally_Fractured_Shale_Oil_Reservoirs.pdf'.\n",
      "Moving file '3870100.pdf' to 'Can_Transient_High_Gamma_Ray_Be_Used_to_Observe_Phase_Behavior_and_Fluid_Transport_in_Unconventional_Reservoirs.pdf'.\n",
      "Moving file '3870123.pdf' to 'Simulation_of_the_Seismic_Records_(DAS)_in_a_Borehole_Throughout_CO2_Storage_Procedures.pdf'.\n",
      "Moving file '3870194.pdf' to 'Modeling_of_Fiber-Optic_Strain_Response_When_Pumping_Stops_to_Verify_Potential_Continuation_of_Fracture_Extension.pdf'.\n",
      "Moving file '3870320.pdf' to 'Multiphase_Flowing_Material_Balance_for_Well_Groups.pdf'.\n",
      "Moving file '3870451.pdf' to 'Simulation_of_the_Seismic_Records_(DAS)_in_a_Borehole_Throughout_CO2_Storage_Procedures_Impact_of_Fracture_Roughness_on_Fines_Migration_and_Fracture_Aperture_Growth_in_Calcareous_Shale_Rocks_During_Acidized_Core_Floods.pdf'.\n",
      "Error occurred while moving file '3870451.pdf': [Errno 2] No such file or directory: 'C:\\\\Users\\\\grellama\\\\URTec_2023_with_names\\\\Simulation_of_the_Seismic_Records_(DAS)_in_a_Borehole_Throughout_CO2_Storage_Procedures_Impact_of_Fracture_Roughness_on_Fines_Migration_and_Fracture_Aperture_Growth_in_Calcareous_Shale_Rocks_During_Acidized_Core_Floods.pdf'\n",
      "Moving file '3870467.pdf' to 'Optimizing_Shale_Infill_Development_with_AI_Child_Well_Meta_Models.pdf'.\n",
      "Moving file '3870505.pdf' to 'Design_of_Chemical_EOR_in_Unconventional_Reservoirs.pdf'.\n",
      "Moving file '3870693.pdf' to 'Integrated_Numerical_Modeling_of_a_Huff-N-Puff_Pilot_in_Eagle_Ford.pdf'.\n",
      "Moving file '3870872.pdf' to 'How_Much_Data_Is_Needed_to_Create_Accurate_PDP_Forecasts.pdf'.\n",
      "Moving file '3870880.pdf' to 'Basin-Specific_Optimization_of_an_Automated_Geosteering_Algorithm_Using_Simulated_Stratigraphy.pdf'.\n",
      "Moving file '3870942.pdf' to 'The_Application_of_the_Lognormal_Cumulative_Distribution_Function_(LCDF)_for_Time-Rate_Interpretation_and_Forecasting_of_Wells_in_Uncon-Ventional_Reservoirs.pdf'.\n",
      "Moving file '3870990.pdf' to 'Core_Data_Integration_Validation_of_Sonic_Derived_Anisotropic_Mechanical_Properties_to_Expedite_Well_Decisions_in_Unconventional_Reservoirs.pdf'.\n",
      "Moving file '3871053.pdf' to 'Chemically_Enhance_Hydraulic_Fracturing_by_Maintaining_Proppant_and_Formation_Integrity.pdf'.\n",
      "Moving file '3871063.pdf' to 'Survival_Analysis_Predicts_Flow_Regime_Changes_for_Permian_Basin_Tight_Oil_Wells.pdf'.\n",
      "Moving file '3871113.pdf' to 'High-Resolution_Core_Study_Relating_Chemofacies_to_Reservoir_Quality_Examples_from_the_Permian_Wolfcamp_XY_Formation,_Delaware_Basin,_Texas.pdf'.\n",
      "Moving file '3871142.pdf' to 'NPV_Max_Development_Optimization_Utilizing_Multidisciplinary_Approach,_a_Case_Study_from_the_Permian_Basin,_USA.pdf'.\n",
      "Moving file '3871259.pdf' to 'Modeling_Hydrogen_Geochemistry_Using_Fundamental_Quantum-Mechanical_Approaches_to_Enable_Hydrogen_Geostorage.pdf'.\n",
      "Moving file '3871298.pdf' to 'Novel_High-Pressure-High-Temperature_Setup_for_Surfactant-Assisted_Spontaneous_Imbibition.pdf'.\n",
      "Skipping file '3871306.pdf' as it is not included in manuscript_dict.\n",
      "Moving file '3871386.pdf' to 'Unconventional_Gas_EOR_Recovery_Mechanisms_and_Piloting.pdf'.\n",
      "Moving file '3871432.pdf' to 'Remote_Monitoring_of_Stage_Performance_from_Zonal_Returns_of_Nanoparticle_Tracers_Integrated_in_Shaped_Charges_Liners_to_Surface_with_Flowback.pdf'.\n",
      "Moving file '3871503.pdf' to 'Modeling_on_Enhanced_Gas_Recovery_and_Evaluation_COsub2sub_Sequestration_Capacity_Under_Different_Mechanisms_in_Shale_Gas_Reservoirs.pdf'.\n",
      "Moving file '3871537.pdf' to 'Integrated_Reservoir_Study_for_Successful_CO2_Storage_Planning_An_Alberta_Case_Study_of_Depleted_Gas_Pools,_Current_and_Future_Readiness.pdf'.\n",
      "Moving file '3871574.pdf' to 'A_Novel_Choke_Management_Evaluation_Workflow_Using_Calibrated_Hydraulic_Fractures_and_Embedded_Discrete_Fracture_Model_for_Deep_Shale_Gas_Reservoirs.pdf'.\n",
      "Moving file '3871655.pdf' to 'An_Integrated_Triple-Porosity_Reservoir_Modeling_Case_Study_to_EvaluateImprove_Well_Spacing_in_Uinta_Basin.pdf'.\n",
      "Moving file '3871668.pdf' to 'Optimization_of_the_Proppant_Placement_Through_the_Perforations_in_Multistage_Hydraulic_Fracturing_A_Laboratory-Scale_Experimental_Investigation.pdf'.\n",
      "Moving file '3871673.pdf' to 'Recent_Advances_and_New_Insights_of_Fiber_Optic_Techniques_in_Fracture_Diagnostics_Used_for_Unconventional_Reservoirs.pdf'.\n",
      "Moving file '3871674.pdf' to 'Refrac_and_Re-Complete_Whole_History_in_the_North_Dakota_Determining_Detailed_Type_and_Sub-Type_of_Refrac_and_Incremental_Production.pdf'.\n",
      "Moving file '3871683.pdf' to 'Rock_Fabric_Not_Principal_Stress_Dictates_SRV_The_Story_of_How_a_∼70_Year_Old_Discounted_Data_Point_Still_Plagues_Our_Industry_and_How_True_Triaxial_Testing_Finally_Confirms_It.pdf'.\n",
      "Moving file '3873139.pdf' to 'Eagle_Ford_Parent_Well_Frac_Hit_(Frac_Driven_Interaction)_Impact_Characterization,_Prediction,_and_Mitigation.pdf'.\n",
      "Skipping file 'Manuscript List_Urtec2023.pdf' as it is not included in manuscript_dict.\n"
     ]
    }
   ],
   "source": [
    "import os\n",
    "import shutil\n",
    "import re\n",
    "\n",
    "# Define the folder path and manuscript dictionary\n",
    "source_path = r\"C:\\Users\\grellama\\URTec_2023\"\n",
    "destination_path = r\"C:\\Users\\grellama\\URTec_2023_with_names\"\n",
    "\n",
    "# Define a dictionary of manuscript names based on the json file\n",
    "\n",
    "with open('manuscripts_dict.json', 'r') as fp:\n",
    "    manuscript_dict = json.load(fp)\n",
    "\n",
    "# Function to preprocess filenames by removing forbidden characters\n",
    "def preprocess_filename(filename):\n",
    "    forbidden_chars = r'[<>.:\"/\\\\|?*]'\n",
    "    return re.sub(forbidden_chars, '', filename)\n",
    "\n",
    "# Function to replace blanks with underscores\n",
    "def replace_blanks(filename):\n",
    "    return re.sub(r'\\s+', '_', filename)\n",
    "\n",
    "# Create the destination folder if it doesn't exist\n",
    "if not os.path.exists(destination_path):\n",
    "    os.makedirs(destination_path)\n",
    "\n",
    "# Iterate through the PDF files in the folder and save them with new filenames\n",
    "for filename in os.listdir(source_path):\n",
    "    if filename.endswith(\".pdf\"):\n",
    "        file_id = os.path.splitext(filename)[0]\n",
    "        if file_id in manuscript_dict:\n",
    "            new_filename = preprocess_filename(manuscript_dict[file_id]) + \".pdf\"\n",
    "            new_filename = replace_blanks(new_filename)\n",
    "            src = os.path.join(source_path, filename)\n",
    "            dst = os.path.join(destination_path, new_filename)\n",
    "            print(f\"Moving file '{filename}' to '{new_filename}'.\")\n",
    "            try:\n",
    "                shutil.move(src, dst)\n",
    "            except Exception as e:\n",
    "                print(f\"Error occurred while moving file '{filename}': {str(e)}\")\n",
    "        else:\n",
    "            print(f\"Skipping file '{filename}' as it is not included in manuscript_dict.\")\n"
   ]
  },
  {
   "attachments": {},
   "cell_type": "markdown",
   "metadata": {},
   "source": []
  },
  {
   "attachments": {},
   "cell_type": "markdown",
   "metadata": {},
   "source": [
    "### Perform a Keyword Analysis on the values of  `manuscript_dict `"
   ]
  },
  {
   "cell_type": "code",
   "execution_count": 8,
   "metadata": {},
   "outputs": [
    {
     "name": "stderr",
     "output_type": "stream",
     "text": [
      "[nltk_data] Downloading package stopwords to\n",
      "[nltk_data]     C:\\Users\\grellama\\AppData\\Roaming\\nltk_data...\n",
      "[nltk_data]   Package stopwords is already up-to-date!\n"
     ]
    }
   ],
   "source": [
    "from collections import Counter\n",
    "import nltk\n",
    "from nltk.corpus import stopwords\n",
    "from nltk import pos_tag\n",
    "\n",
    "\n",
    "# Download the stopwords and POS tagger data if not already downloaded\n",
    "nltk.download('stopwords')\n",
    "nltk.download('averaged_perceptron_tagger')\n",
    "\n",
    "# Get the list of stopwords\n",
    "stop_words = set(stopwords.words('english'))"
   ]
  },
  {
   "cell_type": "code",
   "execution_count": null,
   "metadata": {},
   "outputs": [],
   "source": [
    "# Preprocess the titles\n",
    "preprocessed_titles = [preprocess_title(title) for title in titles]\n",
    "\n",
    "# Flatten the preprocessed titles into a single list of words\n",
    "words = [word for title in preprocessed_titles for word in title.split()]\n",
    "\n",
    "# Perform keyword analysis and get the most common keywords\n",
    "keyword_counts = Counter(words)\n",
    "top_keywords = keyword_counts.most_common(10)  # Get the top 10 most common keywords\n",
    "\n",
    "# Print the top keywords and their frequencies\n",
    "for keyword, count in top_keywords:\n",
    "    print(f\"Keyword: {keyword}, Count: {count}\")"
   ]
  },
  {
   "cell_type": "code",
   "execution_count": 14,
   "metadata": {},
   "outputs": [],
   "source": [
    "# Get all the manuscript titles from the dictionary values\n",
    "titles = list(manuscript_dict.values())\n",
    "\n",
    "# Define a function to preprocess the titles (remove punctuation, convert to lowercase, remove stopwords)\n",
    "def preprocess_title(title):\n",
    "    title = re.sub(r'[^\\w\\s]', '', title)  # Remove punctuation\n",
    "    title = title.lower()  # Convert to lowercase\n",
    "    title = ' '.join([word for word in title.split() if word not in stop_words])  # Remove stopwords\n",
    "    return title\n",
    "\n"
   ]
  },
  {
   "cell_type": "code",
   "execution_count": 17,
   "metadata": {},
   "outputs": [
    {
     "name": "stdout",
     "output_type": "stream",
     "text": [
      "Element: unconventional, Count: 59\n",
      "Element: basin, Count: 46\n",
      "Element: shale, Count: 37\n",
      "Element: study, Count: 35\n",
      "Element: fracture, Count: 35\n",
      "Element: using, Count: 32\n",
      "Element: reservoir, Count: 31\n",
      "Element: gas, Count: 31\n",
      "Element: reservoirs, Count: 30\n",
      "Element: production, Count: 29\n",
      "Element: case, Count: 25\n",
      "Element: analysis, Count: 24\n",
      "Element: oil, Count: 22\n",
      "Element: approach, Count: 21\n",
      "Element: modeling, Count: 20\n",
      "Element: hydraulic, Count: 19\n",
      "Element: wells, Count: 18\n",
      "Element: permian, Count: 17\n",
      "Element: data, Count: 17\n",
      "Element: learning, Count: 17\n"
     ]
    }
   ],
   "source": [
    "# Define a function to extract meaningful elements from titles\n",
    "def extract_meaning(title):\n",
    "    # Preprocess the title\n",
    "    title = preprocess_title(title)\n",
    "    \n",
    "    # Tokenize the title\n",
    "    tokens = nltk.word_tokenize(title)\n",
    "    \n",
    "    # Perform POS tagging\n",
    "    tagged_tokens = pos_tag(tokens)\n",
    "    \n",
    "    # Extract meaningful elements (e.g., nouns, verbs, adjectives) based on POS tags\n",
    "    meaningful_elements = [word for word, pos in tagged_tokens if pos.startswith(('N', 'V', 'J'))]\n",
    "    \n",
    "    return meaningful_elements\n",
    "\n",
    "# Extract meaningful elements from titles\n",
    "meaningful_elements = [extract_meaning(title) for title in titles]\n",
    "\n",
    "# Flatten the meaningful elements into a single list\n",
    "elements = [element for sublist in meaningful_elements for element in sublist]\n",
    "\n",
    "# Perform analysis on meaningful elements and get the most common ones\n",
    "element_counts = Counter(elements)\n",
    "top_elements = element_counts.most_common(20)  # Get the top 10 most common elements\n",
    "\n",
    "# Print the top elements and their frequencies\n",
    "for element, count in top_elements:\n",
    "    print(f\"Element: {element}, Count: {count}\")\n"
   ]
  },
  {
   "cell_type": "code",
   "execution_count": 26,
   "metadata": {},
   "outputs": [
    {
     "data": {
      "image/png": "[encoded data removed]",
      "text/plain": [
       "<Figure size 640x480 with 1 Axes>"
      ]
     },
     "metadata": {},
     "output_type": "display_data"
    }
   ],
   "source": [
    "# create a bar chart of the top elements\n",
    "import matplotlib.pyplot as plt\n",
    "\n",
    "# Get the top 10 elements and their counts\n",
    "top_elements = element_counts.most_common(20)\n",
    "\n",
    "# Create lists of elements and counts\n",
    "elements = [element for element, count in top_elements]\n",
    "counts = [count for element, count in top_elements]\n",
    "\n",
    "# slice the elements and counts to get exclude the top 10 elements\n",
    "elements = elements[10:]\n",
    "counts = counts[10:]\n",
    "\n",
    "# Create a bar chart and highlight specific bars\n",
    "plt.bar(elements, counts, color=['blue', 'blue', 'blue', 'blue', 'orange', 'blue', 'blue', 'blue', 'orange', 'blue'])\n",
    "\n",
    "\n",
    "# Add labels to the bar chart\n",
    "plt.xlabel('Word')\n",
    "plt.ylabel('Word Count')\n",
    "plt.xticks(rotation=45, fontsize=8)\n",
    "\n",
    "plt.title('Subsequent Top 10 Words mentioned in Urtec 2023 Manuscript Titles')\n",
    "\n",
    "\n",
    "plt.show()\n"
   ]
  },
  {
   "cell_type": "code",
   "execution_count": null,
   "metadata": {},
   "outputs": [],
   "source": []
  }
 ],
 "metadata": {
  "kernelspec": {
   "display_name": "cop",
   "language": "python",
   "name": "python3"
  },
  "language_info": {
   "codemirror_mode": {
    "name": "ipython",
    "version": 3
   },
   "file_extension": ".py",
   "mimetype": "text/x-python",
   "name": "python",
   "nbconvert_exporter": "python",
   "pygments_lexer": "ipython3",
   "version": "3.9.15"
  },
  "orig_nbformat": 4
 },
 "nbformat": 4,
 "nbformat_minor": 2
}
