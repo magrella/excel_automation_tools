{
 "cells": [
  {
   "attachments": {},
   "cell_type": "markdown",
   "metadata": {},
   "source": [
    "### <p style=\"color:yellow;\"> Define functions required to update the Excel file.</p>"
   ]
  },
  {
   "cell_type": "code",
   "execution_count": 42,
   "metadata": {},
   "outputs": [],
   "source": [
    "import pandas as pd\n",
    "import os\n",
    "from openpyxl import load_workbook\n",
    "from openpyxl.utils import get_column_letter\n",
    "from datetime import datetime, timedelta\n",
    "\n",
    "def copy_worksheet(source, destination):\n",
    "    destination.sheet_properties.tabColor = source.sheet_properties.tabColor\n",
    "    for row in source.iter_rows():\n",
    "        for cell in row:\n",
    "            destination[cell.coordinate].value = cell.value\n",
    "            destination[cell.coordinate].data_type = cell.data_type\n",
    "            destination[cell.coordinate].hyperlink = cell.hyperlink\n",
    "    for col_idx in range(1, source.max_column + 1):\n",
    "        col_letter = get_column_letter(col_idx)\n",
    "        destination.column_dimensions[col_letter].width = source.column_dimensions[col_letter].width\n",
    "    for row_idx in range(1, source.max_row + 1):\n",
    "        destination.row_dimensions[row_idx].height = source.row_dimensions[row_idx].height\n",
    "\n",
    "\n",
    "def update_spreadsheet(file_path):\n",
    "    # Define other variables\n",
    "    new_sheet_name = datetime.now().strftime(\"%m-%d-%Y\")  # Today's date as the new sheet name\n",
    "\n",
    "    # Load the Excel file with openpyxl directly\n",
    "    excel_file = load_workbook(file_path)\n",
    "\n",
    "    # Check if a sheet with the same name exists, and delete it if found\n",
    "    if new_sheet_name in excel_file.sheetnames:\n",
    "        del excel_file[new_sheet_name]\n",
    "\n",
    "\n",
    "    # Use the last sheet as sheet_name\n",
    "    sheet_names = excel_file.sheetnames\n",
    "    if len(sheet_names) > 0:\n",
    "        sheet_name = sheet_names[-1]\n",
    "\n",
    "    # Load the template sheet\n",
    "    template_sheet = excel_file[sheet_name]\n",
    "\n",
    "    # Create a new sheet and copy values and formatting from the template sheet\n",
    "    new_sheet = excel_file.create_sheet(title=new_sheet_name)\n",
    "    copy_worksheet(template_sheet, new_sheet)\n",
    "\n",
    "    # Rename cell A1 with today's date\n",
    "    new_sheet[\"A1\"] = new_sheet_name\n",
    "\n",
    "    # Update cell C2 with the next Monday after today's date\n",
    "    next_monday = datetime.now() + timedelta(days=5)\n",
    "    new_sheet[\"C2\"] = next_monday.strftime(\"%m-%d-%Y\")\n",
    "\n",
    "\n",
    "\n",
    "    # Iterate through each row in the sheet\n",
    "    for row in new_sheet.iter_rows(min_row=3, max_row=new_sheet.max_row):\n",
    "\n",
    "        # Get the cell in column E for each row\n",
    "        cell = row[4]  # Index 4 corresponds to column E (0-based indexing)\n",
    "\n",
    "        # Check if the cell contains a string and the word \"completed\" (case-insensitive) is present or is None\n",
    "        if isinstance(cell.value, str) and (\"completed\" in cell.value.lower() or cell.value is None):\n",
    "            # Store the value of the corresponding row in column C (\"Description\")\n",
    "            cell_b = row[2].value\n",
    "            #write the value of cell_b to in the last row of column A\n",
    "            new_sheet[\"A\" + str(new_sheet.max_row + 1)] = f\"Deleted {cell_b}\"\n",
    "\n",
    "\n",
    "            # Delete the row\n",
    "            new_sheet.delete_rows(cell.row)\n",
    "\n",
    "        else:\n",
    "            # do nothing\n",
    "            pass\n",
    "\n",
    "    # Save the updated spreadsheet\n",
    "    excel_file.save(file_path)\n",
    "\n",
    "\n",
    "\n",
    "\n"
   ]
  },
  {
   "attachments": {},
   "cell_type": "markdown",
   "metadata": {},
   "source": [
    "### <p style=\"color:yellow;\"> Execute the functions.</p>"
   ]
  },
  {
   "cell_type": "code",
   "execution_count": null,
   "metadata": {},
   "outputs": [],
   "source": [
    "# Define the file path and sheet name\n",
    "file_path = r\"C:\\Users\\grellama\\OneDrive - Continental Resources\\Personel\\weekly updates\\project_tracker_update.xlsx\"\n",
    "\n",
    "# Call the update_spreadsheet function\n",
    "update_spreadsheet(file_path)\n",
    "\n",
    "# Open the updated Excel file\n",
    "\n",
    "os.startfile(file_path)\n"
   ]
  },
  {
   "cell_type": "code",
   "execution_count": 26,
   "metadata": {},
   "outputs": [],
   "source": []
  },
  {
   "cell_type": "code",
   "execution_count": null,
   "metadata": {},
   "outputs": [],
   "source": []
  }
 ],
 "metadata": {
  "kernelspec": {
   "display_name": "cop",
   "language": "python",
   "name": "python3"
  },
  "language_info": {
   "codemirror_mode": {
    "name": "ipython",
    "version": 3
   },
   "file_extension": ".py",
   "mimetype": "text/x-python",
   "name": "python",
   "nbconvert_exporter": "python",
   "pygments_lexer": "ipython3",
   "version": "3.9.15"
  },
  "orig_nbformat": 4
 },
 "nbformat": 4,
 "nbformat_minor": 2
}
