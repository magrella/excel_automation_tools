{
 "cells": [
  {
   "cell_type": "code",
   "execution_count": 46,
   "metadata": {},
   "outputs": [],
   "source": [
    "import pandas as pd\n",
    "from openpyxl import load_workbook\n",
    "from openpyxl.utils import get_column_letter\n",
    "from datetime import datetime, timedelta\n",
    "\n",
    "Area_row = \"B\"\n",
    "\n",
    "Description_row = \"C\"\n",
    "# Define the file path and sheet name\n",
    "file_path = r\"C:\\Users\\grellama\\OneDrive - Continental Resources\\Personel\\weekly updates\\project_tracker.xlsx\"\n",
    "\n",
    "\n",
    "\n",
    "# Load the Excel file\n",
    "workbook = load_workbook(file_path)\n",
    "\n",
    "# Create an empty dataframe to store the groups\n",
    "df_groups = pd.DataFrame(columns=[\"Group\", \"Content\", \"SheetsAppended\"])\n",
    "\n",
    "# Get the sheet names in the workbook\n",
    "sheet_names = workbook.sheetnames\n",
    "\n",
    "# Iterate through all sheets in the Excel file\n",
    "for i in range(len(sheet_names) - 1):\n",
    "    # Get the current and next sheet\n",
    "    current_sheet = workbook[sheet_names[i]]\n",
    "    next_sheet = workbook[sheet_names[i + 1]]\n",
    "\n",
    "    # Iterate through rows starting from the 3rd row\n",
    "    for row in range(3, current_sheet.max_row + 1):\n",
    "        # Get the content of the current and next cells in column B\n",
    "        current_cell = current_sheet[Description_row + str(row)].value\n",
    "        next_cell = next_sheet[Description_row + str(row)].value\n",
    "\n",
    "        # Check if both cells have content\n",
    "        if current_cell and next_cell:\n",
    "            # Split the content into words\n",
    "            current_words = set(str(current_cell).lower().split())\n",
    "            next_words = set(str(next_cell).lower().split())\n",
    "\n",
    "            # Calculate the similarity score\n",
    "            similarity_score = len(current_words.intersection(next_words)) / len(current_words)\n",
    "\n",
    "            # Check if the similarity score is greater than or equal to 0.5 (50%)\n",
    "            if similarity_score >= 0.5:\n",
    "                # Get the content of the current row in column B and D\n",
    "                group_name = current_sheet[Description_row + str(row)].value\n",
    "                content = current_sheet[\"D\" + str(row)].value\n",
    "\n",
    "                # Check if the group already exists in the dataframe\n",
    "                if group_name in df_groups[\"Group\"].values:\n",
    "                    # Append the content to the existing group on another row\n",
    "                    df_groups.loc[df_groups[\"Group\"] == group_name, \"Content\"] += \", \" + str(content)\n",
    "                    \n",
    "                    df_groups.loc[df_groups[\"Group\"] == group_name, \"SheetsAppended\"] += 1\n",
    "                else:\n",
    "                    # Create a new dataframe for the new group\n",
    "                    new_group = pd.DataFrame({\"Group\": [group_name], \"Content\": [content], \"SheetsAppended\": [1]})\n",
    "                    # Concatenate the new group dataframe with the existing groups dataframe\n",
    "                    df_groups = pd.concat([df_groups, new_group], ignore_index=True)\n",
    "\n",
    "# Sort the groups by the number of sheets appended in descending order\n",
    "df_groups = df_groups.sort_values(\"SheetsAppended\", ascending=False)\n",
    "\n",
    "# set the Group column as the index\n",
    "df_groups.set_index(\"Group\", inplace=True)"
   ]
  },
  {
   "cell_type": "code",
   "execution_count": 47,
   "metadata": {},
   "outputs": [
    {
     "data": {
      "text/html": [
       "<div>\n",
       "<style scoped>\n",
       "    .dataframe tbody tr th:only-of-type {\n",
       "        vertical-align: middle;\n",
       "    }\n",
       "\n",
       "    .dataframe tbody tr th {\n",
       "        vertical-align: top;\n",
       "    }\n",
       "\n",
       "    .dataframe thead th {\n",
       "        text-align: right;\n",
       "    }\n",
       "</style>\n",
       "<table border=\"1\" class=\"dataframe\">\n",
       "  <thead>\n",
       "    <tr style=\"text-align: right;\">\n",
       "      <th></th>\n",
       "      <th>Content</th>\n",
       "      <th>SheetsAppended</th>\n",
       "    </tr>\n",
       "    <tr>\n",
       "      <th>Group</th>\n",
       "      <th></th>\n",
       "      <th></th>\n",
       "    </tr>\n",
       "  </thead>\n",
       "  <tbody>\n",
       "    <tr>\n",
       "      <th>Spacing Study</th>\n",
       "      <td>•  Studied paper SPE-209171-MS to review publ...</td>\n",
       "      <td>21</td>\n",
       "    </tr>\n",
       "    <tr>\n",
       "      <th>SplitCAST implementation</th>\n",
       "      <td>•  Continued  to review original code, streaml...</td>\n",
       "      <td>10</td>\n",
       "    </tr>\n",
       "    <tr>\n",
       "      <th>2023 Goals</th>\n",
       "      <td>•  Added ideas to goals,  •  Added ideas to g...</td>\n",
       "      <td>4</td>\n",
       "    </tr>\n",
       "    <tr>\n",
       "      <th>Professional\\nDevelopment/E&amp;P Warehouse Migration</th>\n",
       "      <td>• Worked with IT to troubleshoot workspace acc...</td>\n",
       "      <td>4</td>\n",
       "    </tr>\n",
       "    <tr>\n",
       "      <th>GOR Study</th>\n",
       "      <td>•  Investigating existing publication in time...</td>\n",
       "      <td>3</td>\n",
       "    </tr>\n",
       "  </tbody>\n",
       "</table>\n",
       "</div>"
      ],
      "text/plain": [
       "                                                                                             Content  \\\n",
       "Group                                                                                                  \n",
       "Spacing Study                                       •  Studied paper SPE-209171-MS to review publ...   \n",
       "SplitCAST implementation                           •  Continued  to review original code, streaml...   \n",
       "2023 Goals                                          •  Added ideas to goals,  •  Added ideas to g...   \n",
       "Professional\\nDevelopment/E&P Warehouse Migration  • Worked with IT to troubleshoot workspace acc...   \n",
       "GOR Study                                           •  Investigating existing publication in time...   \n",
       "\n",
       "                                                  SheetsAppended  \n",
       "Group                                                             \n",
       "Spacing Study                                                 21  \n",
       "SplitCAST implementation                                      10  \n",
       "2023 Goals                                                     4  \n",
       "Professional\\nDevelopment/E&P Warehouse Migration              4  \n",
       "GOR Study                                                      3  "
      ]
     },
     "execution_count": 47,
     "metadata": {},
     "output_type": "execute_result"
    }
   ],
   "source": [
    "df_groups.head()"
   ]
  },
  {
   "cell_type": "code",
   "execution_count": 48,
   "metadata": {},
   "outputs": [
    {
     "data": {
      "text/plain": [
       "Index(['Spacing Study', 'SplitCAST implementation', '2023 Goals',\n",
       "       'Professional\\nDevelopment/E&P Warehouse Migration', 'GOR Study',\n",
       "       'Spacing Study (rolling GOR study under this same category)',\n",
       "       'Professional\\nDevelopment/Miscellaneous'],\n",
       "      dtype='object', name='Group')"
      ]
     },
     "execution_count": 48,
     "metadata": {},
     "output_type": "execute_result"
    }
   ],
   "source": [
    "df_groups.index"
   ]
  },
  {
   "cell_type": "code",
   "execution_count": 49,
   "metadata": {},
   "outputs": [
    {
     "data": {
      "text/plain": [
       "'•  Continued  to review original code, streamlined logic and discarded unused code. Documented new versions. Completed, •  Feedback received from Anadarko Asset team. Conducted and led meeting with RD engineers in order to deep dive into SplitCAST methodology.\\n•  Team interested in evaluating select group of wells in SCOOP and STACK and review well stats related to number of splits vs. EUR variance.\\n•  Currently waiting on well list., •  Reached out to Anadarko RD team to follow up on well list to forecast., •  Reviewed spreadsheet. Working with Ann to calc variance vs actuals on Q422 forecasts\\n, Ann finished running economics. Waiting on dataset to calculate variance metrics. Visualize results , Continued coordinating variance for well set B:\\n•  Met and reviewed EUR with Ann, will need to re-run economics.\\n•  Meeting with Anadarko RD, expect Spotfire project to visualize results for next week., Continued coordinating variance for well set B:\\n•  Met and reviewed EUR with Ann, will need to re-run economics.\\n•  Meeting with Anadarko RD, expect Spotfire project to visualize results for next week., •  Wells set B  economics completed. Met with Ann and reviewed visualizations from Anadarko RD Spotfire project. Needs improvement. \\n•  Reviewing code to generate well classes and compare with variances., •  Modified workflow to output a value indicating the logic used to fit each well (\"curve fit class\").\\n•  Extracted curve fit class for all wells and correlated with variance data, documented. created visualization and slides for presentation.\\n•  RD team presentation originally scheduled for 05/10. Rescheduled per Jeff B. request.\\n•  Met with Mark H. and Stan W. to discuss variance results. \\n\\nCurrently working on checking 1yr and 5yr variances and breakdown dataset to further classify wells. Ann is will be sourcing QoQ or YoY variance, •  Restructuring YoY variance from multiple sheets to single table and analyzing metrics.\\nMeeting with David K. to review preliminary results.'"
      ]
     },
     "execution_count": 49,
     "metadata": {},
     "output_type": "execute_result"
    }
   ],
   "source": [
    "df_groups.loc[\"SplitCAST implementation\", \"Content\"]"
   ]
  },
  {
   "cell_type": "code",
   "execution_count": 50,
   "metadata": {},
   "outputs": [],
   "source": [
    "#Retrieve the path for folder in the `file_path` variable\n",
    "folder_path = file_path[:file_path.rfind(\"\\\\\")]\n",
    "\n",
    "#export the dataframe to an Excel file named project_summaries.xlsx, and save it in the folder_path\n",
    "df_groups.to_excel(folder_path + \"\\\\project_summaries.xlsx\")\n",
    "\n",
    "\n"
   ]
  },
  {
   "cell_type": "code",
   "execution_count": null,
   "metadata": {},
   "outputs": [],
   "source": []
  }
 ],
 "metadata": {
  "kernelspec": {
   "display_name": "cop",
   "language": "python",
   "name": "python3"
  },
  "language_info": {
   "codemirror_mode": {
    "name": "ipython",
    "version": 3
   },
   "file_extension": ".py",
   "mimetype": "text/x-python",
   "name": "python",
   "nbconvert_exporter": "python",
   "pygments_lexer": "ipython3",
   "version": "3.9.15"
  },
  "orig_nbformat": 4
 },
 "nbformat": 4,
 "nbformat_minor": 2
}
